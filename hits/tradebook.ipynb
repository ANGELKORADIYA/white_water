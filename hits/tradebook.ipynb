{
 "cells": [
  {
   "cell_type": "code",
   "execution_count": 9,
   "metadata": {},
   "outputs": [],
   "source": [
    "import pandas as pd\n",
    "import yfinance as yf\n",
    "data = pd.read_csv('results441.csv')\n",
    "results =[]\n",
    "todaydata = []"
   ]
  },
  {
   "cell_type": "code",
   "execution_count": null,
   "metadata": {},
   "outputs": [
    {
     "name": "stderr",
     "output_type": "stream",
     "text": [
      "[*********************100%***********************]  1 of 1 completed\n",
      "[*********************100%***********************]  1 of 1 completed\n",
      "[*********************100%***********************]  1 of 1 completed\n",
      "[*********************100%***********************]  1 of 1 completed\n",
      "[*********************100%***********************]  1 of 1 completed\n",
      "[*********************100%***********************]  1 of 1 completed\n",
      "[*********************100%***********************]  1 of 1 completed\n",
      "[*********************100%***********************]  1 of 1 completed\n",
      "[*********************100%***********************]  1 of 1 completed\n",
      "[*********************100%***********************]  1 of 1 completed\n",
      "[*********************100%***********************]  1 of 1 completed\n",
      "[*********************100%***********************]  1 of 1 completed\n",
      "[*********************100%***********************]  1 of 1 completed\n",
      "[*********************100%***********************]  1 of 1 completed\n",
      "[*********************100%***********************]  1 of 1 completed\n",
      "[*********************100%***********************]  1 of 1 completed\n",
      "[*********************100%***********************]  1 of 1 completed\n",
      "[*********************100%***********************]  1 of 1 completed\n",
      "[*********************100%***********************]  1 of 1 completed\n",
      "[*********************100%***********************]  1 of 1 completed\n",
      "[*********************100%***********************]  1 of 1 completed\n",
      "[*********************100%***********************]  1 of 1 completed\n",
      "[*********************100%***********************]  1 of 1 completed\n",
      "[*********************100%***********************]  1 of 1 completed\n",
      "[*********************100%***********************]  1 of 1 completed\n",
      "[*********************100%***********************]  1 of 1 completed\n",
      "[*********************100%***********************]  1 of 1 completed\n",
      "[*********************100%***********************]  1 of 1 completed\n",
      "[*********************100%***********************]  1 of 1 completed\n",
      "[*********************100%***********************]  1 of 1 completed\n",
      "[*********************100%***********************]  1 of 1 completed\n",
      "[*********************100%***********************]  1 of 1 completed\n",
      "[*********************100%***********************]  1 of 1 completed\n",
      "[*********************100%***********************]  1 of 1 completed\n",
      "[*********************100%***********************]  1 of 1 completed\n",
      "[*********************100%***********************]  1 of 1 completed\n",
      "[*********************100%***********************]  1 of 1 completed\n",
      "[*********************100%***********************]  1 of 1 completed\n",
      "[*********************100%***********************]  1 of 1 completed\n",
      "[*********************100%***********************]  1 of 1 completed\n",
      "[*********************100%***********************]  1 of 1 completed\n",
      "[*********************100%***********************]  1 of 1 completed\n",
      "[*********************100%***********************]  1 of 1 completed\n",
      "[*********************100%***********************]  1 of 1 completed\n",
      "[*********************100%***********************]  1 of 1 completed\n",
      "[*********************100%***********************]  1 of 1 completed\n",
      "[*********************100%***********************]  1 of 1 completed\n",
      "[*********************100%***********************]  1 of 1 completed\n",
      "[*********************100%***********************]  1 of 1 completed\n",
      "[*********************100%***********************]  1 of 1 completed\n"
     ]
    }
   ],
   "source": [
    "for i in range(data.shape[0]):\n",
    "    ticker = data.iloc[i, 0]\n",
    "    temp = yf.download(ticker,interval=\"1d\",period=\"1d\")\n",
    "    todaydata.append([ticker,temp.index[0],temp[\"Open\"].iloc[0],temp[\"High\"].iloc[0],temp[\"Low\"].iloc[0],temp[\"Close\"].iloc[0]])\n",
    "    if temp[\"High\"].iloc[0]>data[\"best buy\"].iloc[i] and temp[\"Low\"].iloc[0]<data[\"best buy\"].iloc[i]:\n",
    "        results.append([\"buy\",ticker,temp.index[0],1,temp[\"Close\"].iloc[0]])\n",
    "    if temp[\"Low\"].iloc[0]<data[\"best sell\"].iloc[i] and temp[\"Low\"].iloc[0]<data[\"best sell\"].iloc[i]:\n",
    "        results.append([\"sell\",ticker,temp.index[0],1,temp[\"Close\"].iloc[0]])\n",
    "pd.DataFrame(todaydata,columns=['Ticker','date','open','high','low',\"close\"]).to_csv('todaydata.csv',index=False) "
   ]
  },
  {
   "cell_type": "code",
   "execution_count": null,
   "metadata": {},
   "outputs": [],
   "source": [
    "# uncomment for your paper trade\n",
    "# pd.DataFrame(results,columns=['type','Ticker','date','size','price']).to_csv('live3.csv',index=False) \n"
   ]
  },
  {
   "cell_type": "code",
   "execution_count": 10,
   "metadata": {},
   "outputs": [],
   "source": [
    "livedata = pd.read_csv('live2.csv')\n",
    "todaydata = pd.read_csv('todaydata.csv')"
   ]
  },
  {
   "cell_type": "code",
   "execution_count": 13,
   "metadata": {},
   "outputs": [],
   "source": [
    "newData =[]\n",
    "for i in range(livedata.shape[0]):\n",
    "    ticker  = livedata[\"Ticker\"].iloc[i]\n",
    "    price = livedata[\"price\"].iloc[i]\n",
    "    today = todaydata[todaydata[\"Ticker\"]==ticker]\n",
    "    diff = today[\"high\"].iloc[0]-price\n",
    "    newData.append([ticker,price, today[\"high\"].iloc[0],diff, int((10000/price)*diff)])\n",
    "newData = pd.DataFrame(newData, columns=[\"ticker\",\"price\",\"high\",\"diff\",\"10000 profit\"])\n",
    "\n",
    "newData.to_csv(\"./profittoday.csv\",index=False)"
   ]
  },
  {
   "cell_type": "code",
   "execution_count": null,
   "metadata": {},
   "outputs": [],
   "source": []
  }
 ],
 "metadata": {
  "kernelspec": {
   "display_name": "Python 3",
   "language": "python",
   "name": "python3"
  },
  "language_info": {
   "codemirror_mode": {
    "name": "ipython",
    "version": 3
   },
   "file_extension": ".py",
   "mimetype": "text/x-python",
   "name": "python",
   "nbconvert_exporter": "python",
   "pygments_lexer": "ipython3",
   "version": "3.12.5"
  }
 },
 "nbformat": 4,
 "nbformat_minor": 2
}
