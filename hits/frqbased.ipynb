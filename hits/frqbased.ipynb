{
 "cells": [
  {
   "cell_type": "code",
   "execution_count": 1,
   "metadata": {},
   "outputs": [],
   "source": [
    "import yfinance as yf\n",
    "import pandas as pd\n",
    "nifty50_tickers_ns = [\n",
    "    \"ADANIENT.ns\",  # Adani Enterprises Ltd.\n",
    "    \"ADANIPORTS.ns\",  # Adani Ports and SEZ Ltd.\n",
    "    \"APOLLOHOSP.ns\",  # Apollo Hospitals Enterprise Ltd.\n",
    "    \"ASIANPAINT.ns\",  # Asian Paints Ltd.\n",
    "    \"AXISBANK.ns\",  # Axis Bank Ltd.\n",
    "    \"BAJFINANCE.ns\",  # Bajaj Finance Ltd.\n",
    "    \"BAJAJFINSV.ns\",  # Bajaj Finserv Ltd.\n",
    "    \"BHARTIARTL.ns\",  # Bharti Airtel Ltd.\n",
    "    \"BIOCON.ns\",  # Biocon Ltd.\n",
    "    \"BPCL.ns\",  # Bharat Petroleum Corporation Ltd.\n",
    "    \"BRITANNIA.ns\",  # Britannia Industries Ltd.\n",
    "    \"CIPLA.ns\",  # Cipla Ltd.\n",
    "    \"COALINDIA.ns\",  # Coal India Ltd.\n",
    "    \"DIVISLAB.ns\",  # Divi's Laboratories Ltd.\n",
    "    \"DLF.ns\",  # DLF Ltd.\n",
    "    \"DRREDDY.ns\",  # Dr. Reddy's Laboratories Ltd.\n",
    "    \"EICHERMOT.ns\",  # Eicher Motors Ltd.\n",
    "    \"GRASIM.ns\",  # Grasim Industries Ltd.\n",
    "    \"HCLTECH.ns\",  # HCL Technologies Ltd.\n",
    "    # \"HDFC.ns\"\n",
    "    \"HDFCBANK.ns\",  # HDFC Bank Ltd.\n",
    "    \"HDFCLIFE.ns\",  # HDFC Life Insurance Company Ltd.\n",
    "    \"HEROMOTOCO.ns\",  # Hero MotoCorp Ltd.\n",
    "    \"HINDALCO.ns\",  # Hindalco Industries Ltd.\n",
    "    \"HINDUNILVR.ns\",  # Hindustan Unilever Ltd.\n",
    "    \"ICICIBANK.ns\",  # ICICI Bank Ltd.\n",
    "    \"ITC.ns\",  # ITC Ltd.\n",
    "    \"JSWSTEEL.ns\",  # JSW Steel Ltd.\n",
    "    \"KOTAKBANK.ns\",  # Kotak Mahindra Bank Ltd.\n",
    "    \"LT.ns\",  # Larsen & Toubro Ltd.\n",
    "    \"M&M.ns\",  # Mahindra & Mahindra Ltd.\n",
    "    \"MARUTI.ns\",  # Maruti Suzuki India Ltd.\n",
    "    \"NTPC.ns\",  # NTPC Ltd.\n",
    "    \"ONGC.ns\",  # Oil & Natural Gas Corporation Ltd.\n",
    "    \"POWERGRID.ns\",  # Power Grid Corporation of India Ltd.\n",
    "    \"RELIANCE.ns\",  # Reliance Industries Ltd.\n",
    "    \"SBILIFE.ns\",  # SBI Life Insurance Company Ltd.\n",
    "    \"SBIN.ns\",  # State Bank of India\n",
    "    \"SHREECEM.ns\",  # Shree Cement Ltd.\n",
    "    \"SIEMENS.ns\",  # Siemens Ltd.\n",
    "    \"SUNPHARMA.ns\",  # Sun Pharmaceutical Industries Ltd.\n",
    "    \"TATAMOTORS.ns\",  # Tata Motors Ltd.\n",
    "    \"TATAPOWER.ns\",  # Tata Power Company Ltd.\n",
    "    \"TATASTEEL.ns\",  # Tata Steel Ltd.\n",
    "    \"TECHM.ns\",  # Tech Mahindra Ltd.\n",
    "    \"TITAN.ns\",  # Titan Company Ltd.\n",
    "    \"ULTRACEMCO.ns\",  # UltraTech Cement Ltd.\n",
    "    \"UPL.ns\",  # UPL Ltd.\n",
    "    \"WIPRO.ns\",  # Wipro Ltd.\n",
    "    \"YESBANK.ns\",  # Yes Bank Ltd.\n",
    "    \"ZOMATO.ns\"  # Zomato Ltd.\n",
    "]\n",
    "results = []\n",
    "buy_sell = []"
   ]
  },
  {
   "cell_type": "code",
   "execution_count": null,
   "metadata": {},
   "outputs": [
    {
     "name": "stdout",
     "output_type": "stream",
     "text": [
      "0\n"
     ]
    },
    {
     "name": "stderr",
     "output_type": "stream",
     "text": [
      "[*********************100%***********************]  1 of 1 completed\n",
      "[*********************100%***********************]  1 of 1 completed\n"
     ]
    },
    {
     "name": "stdout",
     "output_type": "stream",
     "text": [
      "1\n"
     ]
    },
    {
     "name": "stderr",
     "output_type": "stream",
     "text": [
      "[*********************100%***********************]  1 of 1 completed\n",
      "[*********************100%***********************]  1 of 1 completed\n"
     ]
    },
    {
     "name": "stdout",
     "output_type": "stream",
     "text": [
      "2\n"
     ]
    },
    {
     "name": "stderr",
     "output_type": "stream",
     "text": [
      "[*********************100%***********************]  1 of 1 completed\n",
      "[*********************100%***********************]  1 of 1 completed\n"
     ]
    },
    {
     "name": "stdout",
     "output_type": "stream",
     "text": [
      "3\n"
     ]
    },
    {
     "name": "stderr",
     "output_type": "stream",
     "text": [
      "[*********************100%***********************]  1 of 1 completed\n",
      "[*********************100%***********************]  1 of 1 completed\n"
     ]
    },
    {
     "name": "stdout",
     "output_type": "stream",
     "text": [
      "4\n"
     ]
    },
    {
     "name": "stderr",
     "output_type": "stream",
     "text": [
      "[*********************100%***********************]  1 of 1 completed\n",
      "[*********************100%***********************]  1 of 1 completed\n"
     ]
    },
    {
     "name": "stdout",
     "output_type": "stream",
     "text": [
      "5\n"
     ]
    },
    {
     "name": "stderr",
     "output_type": "stream",
     "text": [
      "[*********************100%***********************]  1 of 1 completed\n",
      "[*********************100%***********************]  1 of 1 completed\n"
     ]
    },
    {
     "name": "stdout",
     "output_type": "stream",
     "text": [
      "6\n"
     ]
    },
    {
     "name": "stderr",
     "output_type": "stream",
     "text": [
      "[*********************100%***********************]  1 of 1 completed\n",
      "[*********************100%***********************]  1 of 1 completed\n"
     ]
    },
    {
     "name": "stdout",
     "output_type": "stream",
     "text": [
      "7\n"
     ]
    },
    {
     "name": "stderr",
     "output_type": "stream",
     "text": [
      "[*********************100%***********************]  1 of 1 completed\n",
      "[*********************100%***********************]  1 of 1 completed\n",
      "[*********************100%***********************]  1 of 1 completed"
     ]
    },
    {
     "name": "stdout",
     "output_type": "stream",
     "text": [
      "8\n"
     ]
    },
    {
     "name": "stderr",
     "output_type": "stream",
     "text": [
      "\n",
      "[*********************100%***********************]  1 of 1 completed\n"
     ]
    },
    {
     "name": "stdout",
     "output_type": "stream",
     "text": [
      "9\n"
     ]
    },
    {
     "name": "stderr",
     "output_type": "stream",
     "text": [
      "[*********************100%***********************]  1 of 1 completed\n",
      "[*********************100%***********************]  1 of 1 completed\n"
     ]
    },
    {
     "name": "stdout",
     "output_type": "stream",
     "text": [
      "10\n"
     ]
    },
    {
     "name": "stderr",
     "output_type": "stream",
     "text": [
      "[*********************100%***********************]  1 of 1 completed\n",
      "[*********************100%***********************]  1 of 1 completed\n"
     ]
    },
    {
     "name": "stdout",
     "output_type": "stream",
     "text": [
      "11\n"
     ]
    },
    {
     "name": "stderr",
     "output_type": "stream",
     "text": [
      "[*********************100%***********************]  1 of 1 completed\n",
      "[*********************100%***********************]  1 of 1 completed\n"
     ]
    },
    {
     "name": "stdout",
     "output_type": "stream",
     "text": [
      "12\n"
     ]
    },
    {
     "name": "stderr",
     "output_type": "stream",
     "text": [
      "[*********************100%***********************]  1 of 1 completed\n",
      "[*********************100%***********************]  1 of 1 completed\n"
     ]
    },
    {
     "name": "stdout",
     "output_type": "stream",
     "text": [
      "13\n"
     ]
    },
    {
     "name": "stderr",
     "output_type": "stream",
     "text": [
      "[*********************100%***********************]  1 of 1 completed\n",
      "[*********************100%***********************]  1 of 1 completed\n"
     ]
    },
    {
     "name": "stdout",
     "output_type": "stream",
     "text": [
      "14\n"
     ]
    },
    {
     "name": "stderr",
     "output_type": "stream",
     "text": [
      "[*********************100%***********************]  1 of 1 completed\n",
      "[*********************100%***********************]  1 of 1 completed\n"
     ]
    },
    {
     "name": "stdout",
     "output_type": "stream",
     "text": [
      "15\n"
     ]
    },
    {
     "name": "stderr",
     "output_type": "stream",
     "text": [
      "[*********************100%***********************]  1 of 1 completed\n",
      "[*********************100%***********************]  1 of 1 completed\n"
     ]
    },
    {
     "name": "stdout",
     "output_type": "stream",
     "text": [
      "16\n"
     ]
    },
    {
     "name": "stderr",
     "output_type": "stream",
     "text": [
      "[*********************100%***********************]  1 of 1 completed\n",
      "[*********************100%***********************]  1 of 1 completed\n"
     ]
    },
    {
     "name": "stdout",
     "output_type": "stream",
     "text": [
      "17\n"
     ]
    },
    {
     "name": "stderr",
     "output_type": "stream",
     "text": [
      "[*********************100%***********************]  1 of 1 completed\n",
      "[*********************100%***********************]  1 of 1 completed\n"
     ]
    },
    {
     "name": "stdout",
     "output_type": "stream",
     "text": [
      "18\n"
     ]
    },
    {
     "name": "stderr",
     "output_type": "stream",
     "text": [
      "[*********************100%***********************]  1 of 1 completed\n",
      "[*********************100%***********************]  1 of 1 completed\n"
     ]
    },
    {
     "name": "stdout",
     "output_type": "stream",
     "text": [
      "19\n"
     ]
    },
    {
     "name": "stderr",
     "output_type": "stream",
     "text": [
      "[*********************100%***********************]  1 of 1 completed\n",
      "[*********************100%***********************]  1 of 1 completed\n"
     ]
    },
    {
     "name": "stdout",
     "output_type": "stream",
     "text": [
      "20\n"
     ]
    },
    {
     "name": "stderr",
     "output_type": "stream",
     "text": [
      "[*********************100%***********************]  1 of 1 completed\n",
      "[*********************100%***********************]  1 of 1 completed\n"
     ]
    },
    {
     "name": "stdout",
     "output_type": "stream",
     "text": [
      "21\n"
     ]
    },
    {
     "name": "stderr",
     "output_type": "stream",
     "text": [
      "[*********************100%***********************]  1 of 1 completed\n",
      "[*********************100%***********************]  1 of 1 completed\n",
      "[*********************100%***********************]  1 of 1 completed"
     ]
    },
    {
     "name": "stdout",
     "output_type": "stream",
     "text": [
      "22\n"
     ]
    },
    {
     "name": "stderr",
     "output_type": "stream",
     "text": [
      "\n",
      "[*********************100%***********************]  1 of 1 completed\n"
     ]
    },
    {
     "name": "stdout",
     "output_type": "stream",
     "text": [
      "23\n"
     ]
    },
    {
     "name": "stderr",
     "output_type": "stream",
     "text": [
      "[*********************100%***********************]  1 of 1 completed\n",
      "[*********************100%***********************]  1 of 1 completed\n"
     ]
    },
    {
     "name": "stdout",
     "output_type": "stream",
     "text": [
      "24\n"
     ]
    },
    {
     "name": "stderr",
     "output_type": "stream",
     "text": [
      "[*********************100%***********************]  1 of 1 completed\n",
      "[*********************100%***********************]  1 of 1 completed\n"
     ]
    },
    {
     "name": "stdout",
     "output_type": "stream",
     "text": [
      "25\n"
     ]
    },
    {
     "name": "stderr",
     "output_type": "stream",
     "text": [
      "[*********************100%***********************]  1 of 1 completed\n",
      "[*********************100%***********************]  1 of 1 completed\n"
     ]
    },
    {
     "name": "stdout",
     "output_type": "stream",
     "text": [
      "26\n"
     ]
    },
    {
     "name": "stderr",
     "output_type": "stream",
     "text": [
      "[*********************100%***********************]  1 of 1 completed\n",
      "[*********************100%***********************]  1 of 1 completed\n"
     ]
    },
    {
     "name": "stdout",
     "output_type": "stream",
     "text": [
      "27\n"
     ]
    },
    {
     "name": "stderr",
     "output_type": "stream",
     "text": [
      "[*********************100%***********************]  1 of 1 completed\n",
      "[*********************100%***********************]  1 of 1 completed\n"
     ]
    },
    {
     "name": "stdout",
     "output_type": "stream",
     "text": [
      "28\n"
     ]
    },
    {
     "name": "stderr",
     "output_type": "stream",
     "text": [
      "[*********************100%***********************]  1 of 1 completed\n",
      "[*********************100%***********************]  1 of 1 completed\n"
     ]
    },
    {
     "name": "stdout",
     "output_type": "stream",
     "text": [
      "29\n"
     ]
    },
    {
     "name": "stderr",
     "output_type": "stream",
     "text": [
      "[*********************100%***********************]  1 of 1 completed\n",
      "[*********************100%***********************]  1 of 1 completed\n"
     ]
    },
    {
     "name": "stdout",
     "output_type": "stream",
     "text": [
      "30\n"
     ]
    },
    {
     "name": "stderr",
     "output_type": "stream",
     "text": [
      "[*********************100%***********************]  1 of 1 completed\n",
      "[*********************100%***********************]  1 of 1 completed\n"
     ]
    },
    {
     "name": "stdout",
     "output_type": "stream",
     "text": [
      "31\n"
     ]
    },
    {
     "name": "stderr",
     "output_type": "stream",
     "text": [
      "[*********************100%***********************]  1 of 1 completed\n",
      "[*********************100%***********************]  1 of 1 completed\n"
     ]
    },
    {
     "name": "stdout",
     "output_type": "stream",
     "text": [
      "32\n"
     ]
    },
    {
     "name": "stderr",
     "output_type": "stream",
     "text": [
      "[*********************100%***********************]  1 of 1 completed\n",
      "[*********************100%***********************]  1 of 1 completed\n"
     ]
    },
    {
     "name": "stdout",
     "output_type": "stream",
     "text": [
      "33\n"
     ]
    },
    {
     "name": "stderr",
     "output_type": "stream",
     "text": [
      "[*********************100%***********************]  1 of 1 completed\n",
      "[*********************100%***********************]  1 of 1 completed\n"
     ]
    },
    {
     "name": "stdout",
     "output_type": "stream",
     "text": [
      "34\n"
     ]
    },
    {
     "name": "stderr",
     "output_type": "stream",
     "text": [
      "[*********************100%***********************]  1 of 1 completed\n",
      "[*********************100%***********************]  1 of 1 completed\n"
     ]
    },
    {
     "name": "stdout",
     "output_type": "stream",
     "text": [
      "35\n"
     ]
    },
    {
     "name": "stderr",
     "output_type": "stream",
     "text": [
      "[*********************100%***********************]  1 of 1 completed\n",
      "[*********************100%***********************]  1 of 1 completed\n"
     ]
    },
    {
     "name": "stdout",
     "output_type": "stream",
     "text": [
      "36\n"
     ]
    },
    {
     "name": "stderr",
     "output_type": "stream",
     "text": [
      "[*********************100%***********************]  1 of 1 completed\n",
      "[*********************100%***********************]  1 of 1 completed\n"
     ]
    },
    {
     "name": "stdout",
     "output_type": "stream",
     "text": [
      "37\n"
     ]
    },
    {
     "name": "stderr",
     "output_type": "stream",
     "text": [
      "[*********************100%***********************]  1 of 1 completed\n",
      "[*********************100%***********************]  1 of 1 completed\n"
     ]
    },
    {
     "name": "stdout",
     "output_type": "stream",
     "text": [
      "38\n"
     ]
    },
    {
     "name": "stderr",
     "output_type": "stream",
     "text": [
      "[*********************100%***********************]  1 of 1 completed\n",
      "[*********************100%***********************]  1 of 1 completed\n"
     ]
    },
    {
     "name": "stdout",
     "output_type": "stream",
     "text": [
      "39\n"
     ]
    },
    {
     "name": "stderr",
     "output_type": "stream",
     "text": [
      "[*********************100%***********************]  1 of 1 completed\n",
      "[*********************100%***********************]  1 of 1 completed\n"
     ]
    },
    {
     "name": "stdout",
     "output_type": "stream",
     "text": [
      "40\n"
     ]
    },
    {
     "name": "stderr",
     "output_type": "stream",
     "text": [
      "[*********************100%***********************]  1 of 1 completed\n",
      "[*********************100%***********************]  1 of 1 completed\n"
     ]
    },
    {
     "name": "stdout",
     "output_type": "stream",
     "text": [
      "41\n"
     ]
    },
    {
     "name": "stderr",
     "output_type": "stream",
     "text": [
      "[*********************100%***********************]  1 of 1 completed\n",
      "[*********************100%***********************]  1 of 1 completed\n"
     ]
    },
    {
     "name": "stdout",
     "output_type": "stream",
     "text": [
      "42\n"
     ]
    },
    {
     "name": "stderr",
     "output_type": "stream",
     "text": [
      "[*********************100%***********************]  1 of 1 completed\n",
      "[*********************100%***********************]  1 of 1 completed\n"
     ]
    },
    {
     "name": "stdout",
     "output_type": "stream",
     "text": [
      "43\n"
     ]
    },
    {
     "name": "stderr",
     "output_type": "stream",
     "text": [
      "[*********************100%***********************]  1 of 1 completed\n",
      "[*********************100%***********************]  1 of 1 completed\n"
     ]
    },
    {
     "name": "stdout",
     "output_type": "stream",
     "text": [
      "44\n"
     ]
    },
    {
     "name": "stderr",
     "output_type": "stream",
     "text": [
      "[*********************100%***********************]  1 of 1 completed\n",
      "[*********************100%***********************]  1 of 1 completed\n"
     ]
    },
    {
     "name": "stdout",
     "output_type": "stream",
     "text": [
      "45\n"
     ]
    },
    {
     "name": "stderr",
     "output_type": "stream",
     "text": [
      "[*********************100%***********************]  1 of 1 completed\n",
      "[*********************100%***********************]  1 of 1 completed\n"
     ]
    },
    {
     "name": "stdout",
     "output_type": "stream",
     "text": [
      "46\n"
     ]
    },
    {
     "name": "stderr",
     "output_type": "stream",
     "text": [
      "[*********************100%***********************]  1 of 1 completed\n",
      "[*********************100%***********************]  1 of 1 completed\n"
     ]
    },
    {
     "name": "stdout",
     "output_type": "stream",
     "text": [
      "47\n"
     ]
    },
    {
     "name": "stderr",
     "output_type": "stream",
     "text": [
      "[*********************100%***********************]  1 of 1 completed\n",
      "[*********************100%***********************]  1 of 1 completed\n"
     ]
    },
    {
     "name": "stdout",
     "output_type": "stream",
     "text": [
      "48\n"
     ]
    },
    {
     "name": "stderr",
     "output_type": "stream",
     "text": [
      "[*********************100%***********************]  1 of 1 completed\n",
      "[*********************100%***********************]  1 of 1 completed\n"
     ]
    },
    {
     "name": "stdout",
     "output_type": "stream",
     "text": [
      "49\n"
     ]
    },
    {
     "name": "stderr",
     "output_type": "stream",
     "text": [
      "[*********************100%***********************]  1 of 1 completed\n",
      "[*********************100%***********************]  1 of 1 completed\n"
     ]
    }
   ],
   "source": [
    "# Initialize counters and storage variables\n",
    "for x in range(len(nifty50_tickers_ns)): \n",
    "    print(x)\n",
    "    ticker = nifty50_tickers_ns[x]\n",
    "    # Initialize counters and storage variables\\\n",
    "    data = yf.download(ticker, interval=\"1h\", period=\"3mo\")  # adjust period as needed\n",
    "    data_mon = yf.download(ticker,interval=\"1d\", period=\"3mo\")\n",
    "    max_up_count = 0\n",
    "    max_down_count = 0\n",
    "    best_buy_price_up = 0\n",
    "    best_buy_price_down = 0\n",
    "    # Iterate through potential buy prices from min Low to max High, rounded to integer steps\n",
    "    for price_step in range(int(data[\"High\"].max() - data[\"Low\"].min())):\n",
    "        potential_buy_price = data[\"Low\"].min() + price_step\n",
    "        target_sell_price_up = potential_buy_price + 20\n",
    "        target_sell_price_down = potential_buy_price - 20\n",
    "\n",
    "        is_purchased = False\n",
    "        up_hits = 0\n",
    "        down_hits = 0\n",
    "\n",
    "        for index in range(data.shape[0]):\n",
    "            # Check if we can initiate a \"buy\" at the potential buy price level\n",
    "            if data[\"Low\"].iloc[index] < potential_buy_price and data[\"High\"].iloc[index] > potential_buy_price:\n",
    "                is_purchased = True\n",
    "\n",
    "            # Count occurrences if \"buy\" has been triggered\n",
    "            if is_purchased:\n",
    "                # Check if price hits the upward target\n",
    "                if data[\"High\"].iloc[index] > target_sell_price_up and data[\"Low\"].iloc[index] < target_sell_price_up:\n",
    "                    up_hits += 1\n",
    "\n",
    "                # Check if price hits the downward target\n",
    "                if data[\"High\"].iloc[index] > target_sell_price_down and data[\"Low\"].iloc[index] < target_sell_price_down:\n",
    "                    down_hits += 1\n",
    "\n",
    "            # Track the buy price with the highest number of hits for both upward and downward targets\n",
    "            if up_hits > max_up_count:\n",
    "                best_buy_price_up = potential_buy_price\n",
    "                max_up_count = up_hits\n",
    "\n",
    "            if down_hits > max_down_count:\n",
    "                best_buy_price_down = potential_buy_price\n",
    "                max_down_count = down_hits\n",
    "\n",
    "    # Output results for maximum counts and corresponding buy prices\n",
    "    # print(\"Optimal Buy Price for Upward Target:\", \" \",int(best_buy_price_up),\" \", max_up_count , \": Max Up Hits\")\n",
    "    # print(\"Optimal Buy Price for Downward Target:\", int(best_buy_price_down) , \" \" , max_down_count , \": Max Down Hits\" )\n",
    "    # print(\"Total \", data.shape[0] , \"Hits is max not useful\")\n",
    "    count_best_buy_price_up = 0 \n",
    "    count_best_buy_price_down = 0 \n",
    "    for i in range(data_mon.shape[0]):\n",
    "        if data_mon[\"High\"].iloc[i] > best_buy_price_up and data_mon[\"Low\"].iloc[i] < best_buy_price_up:\n",
    "            count_best_buy_price_up += 1\n",
    "        if data_mon[\"High\"].iloc[i] > best_buy_price_down and data_mon[\"Low\"].iloc[i] < best_buy_price_down:\n",
    "            count_best_buy_price_down += 1\n",
    "            \n",
    "    # print(\"Number of times the buy price hits the upward target:\", count_best_buy_price_up)\n",
    "    # print(\"Number of times the buy price hits the downward target:\", count_best_buy_price_down)\n",
    "    doo = \"\"\n",
    "    if data[\"High\"].iloc[data.shape[0]-1]-20 > best_buy_price_up:\n",
    "        doo += \"buy\"\n",
    "    if data[\"High\"].iloc[data.shape[0]-1]+20 < best_buy_price_down :\n",
    "        doo += \"sell\"\n",
    "    results.append([ticker,int(best_buy_price_up), int(best_buy_price_down), count_best_buy_price_up, count_best_buy_price_down , max_up_count , max_down_count, doo] )\n"
   ]
  },
  {
   "cell_type": "code",
   "execution_count": null,
   "metadata": {},
   "outputs": [
    {
     "ename": "NameError",
     "evalue": "name 'pd' is not defined",
     "output_type": "error",
     "traceback": [
      "\u001b[1;31m---------------------------------------------------------------------------\u001b[0m",
      "\u001b[1;31mNameError\u001b[0m                                 Traceback (most recent call last)",
      "Cell \u001b[1;32mIn[1], line 1\u001b[0m\n\u001b[1;32m----> 1\u001b[0m \u001b[43mpd\u001b[49m\u001b[38;5;241m.\u001b[39mDataFrame(results , columns\u001b[38;5;241m=\u001b[39m[\u001b[38;5;124m\"\u001b[39m\u001b[38;5;124mticker\u001b[39m\u001b[38;5;124m\"\u001b[39m,\u001b[38;5;124m\"\u001b[39m\u001b[38;5;124mbest buy\u001b[39m\u001b[38;5;124m\"\u001b[39m, \u001b[38;5;124m\"\u001b[39m\u001b[38;5;124mbest sell\u001b[39m\u001b[38;5;124m\"\u001b[39m , \u001b[38;5;124m\"\u001b[39m\u001b[38;5;124mday prev buy occur\u001b[39m\u001b[38;5;124m\"\u001b[39m, \u001b[38;5;124m\"\u001b[39m\u001b[38;5;124mday prev sell occur\u001b[39m\u001b[38;5;124m\"\u001b[39m , \u001b[38;5;124m\"\u001b[39m\u001b[38;5;124mmax up hit(chances after buy)\u001b[39m\u001b[38;5;124m\"\u001b[39m ,\u001b[38;5;124m\"\u001b[39m\u001b[38;5;124mmax down hit(chances after sell)\u001b[39m\u001b[38;5;124m\"\u001b[39m ,\u001b[38;5;124m\"\u001b[39m\u001b[38;5;124mDO\u001b[39m\u001b[38;5;124m\"\u001b[39m ])\u001b[38;5;241m.\u001b[39mto_csv(\u001b[38;5;124mf\u001b[39m\u001b[38;5;124m'\u001b[39m\u001b[38;5;132;01m{\u001b[39;00mdata\u001b[38;5;241m.\u001b[39mshape[\u001b[38;5;241m0\u001b[39m]\u001b[38;5;132;01m}\u001b[39;00m\u001b[38;5;124mresults.csv\u001b[39m\u001b[38;5;124m'\u001b[39m, index\u001b[38;5;241m=\u001b[39m\u001b[38;5;28;01mFalse\u001b[39;00m)  \n",
      "\u001b[1;31mNameError\u001b[0m: name 'pd' is not defined"
     ]
    }
   ],
   "source": [
    "pd.DataFrame(results , columns=[\"ticker\",\"best buy\", \"best sell\" , \"day prev buy occur\", \"day prev sell occur\" , \"max up hit(chances after buy)\" ,\"max down hit(chances after sell)\" ,\"DO\" ]).to_csv(f'results441.csv', index=False)  "
   ]
  }
 ],
 "metadata": {
  "kernelspec": {
   "display_name": "Python 3",
   "language": "python",
   "name": "python3"
  },
  "language_info": {
   "codemirror_mode": {
    "name": "ipython",
    "version": 3
   },
   "file_extension": ".py",
   "mimetype": "text/x-python",
   "name": "python",
   "nbconvert_exporter": "python",
   "pygments_lexer": "ipython3",
   "version": "3.12.5"
  }
 },
 "nbformat": 4,
 "nbformat_minor": 2
}
