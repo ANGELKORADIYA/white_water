{
 "cells": [
  {
   "cell_type": "code",
   "execution_count": 7,
   "metadata": {},
   "outputs": [
    {
     "name": "stderr",
     "output_type": "stream",
     "text": [
      "[*********************100%***********************]  1 of 1 completed\n"
     ]
    },
    {
     "name": "stdout",
     "output_type": "stream",
     "text": [
      "Data saved to nifty_50_daily_data.csv\n"
     ]
    },
    {
     "name": "stderr",
     "output_type": "stream",
     "text": [
      "[*********************100%***********************]  1 of 1 completed"
     ]
    },
    {
     "name": "stdout",
     "output_type": "stream",
     "text": [
      "Data saved to nifty_50_monthly_data.csv\n"
     ]
    },
    {
     "name": "stderr",
     "output_type": "stream",
     "text": [
      "\n"
     ]
    }
   ],
   "source": [
    "from utility.fetch_ import download_stock_data , range_between\n",
    "import pandas as pd\n",
    "# Define the ticker symbol for Nifty 50\n",
    "nifty_ticker = \"^NSEI\"\n",
    "\n",
    "# Download historical data\n",
    "niftyday , niftymon = download_stock_data(1,ticker=nifty_ticker, start_date=\"2020-01-01\", end_date=\"2024-10-28\",filename=[\"nifty_50_daily_data.csv\",\"nifty_50_monthly_data.csv\"])\n",
    "\n"
   ]
  },
  {
   "cell_type": "code",
   "execution_count": 9,
   "metadata": {},
   "outputs": [
    {
     "name": "stdout",
     "output_type": "stream",
     "text": [
      "Average High for a month 647.7034280711207\n",
      "Average Low for a month 541.4542446794181\n"
     ]
    }
   ],
   "source": [
    "print(\"Average High for a month\",(niftymon[\"High\"]-niftymon[\"Open\"]).mean())\n",
    "print(\"Average Low for a month\",(niftymon[\"Open\"]-niftymon[\"Low\"]).mean())"
   ]
  },
  {
   "cell_type": "code",
   "execution_count": 10,
   "metadata": {},
   "outputs": [
    {
     "name": "stdout",
     "output_type": "stream",
     "text": [
      "Max one month up 1673.150390625\n",
      "Max one month down 3876.24951171875\n"
     ]
    }
   ],
   "source": [
    "max = ( niftymon[\"High\"]-niftymon[\"Open\"]).max()\n",
    "print(\"Max one month up\",max)\n",
    "max = (niftymon[\"Open\"] - niftymon[\"Low\"]).max()\n",
    "print(\"Max one month down\",max)"
   ]
  },
  {
   "cell_type": "code",
   "execution_count": 11,
   "metadata": {},
   "outputs": [
    {
     "name": "stdout",
     "output_type": "stream",
     "text": [
      "1 23 11929.599609375 5\n",
      "0 19 11175.0498046875 18\n",
      "0 21 7511.10009765625 20\n",
      "0 18 8055.7998046875 17\n",
      "0 19 8806.75 18\n",
      "0 22 9544.349609375 21\n",
      "0 23 10299.599609375 22\n",
      "0 21 10882.25 20\n",
      "0 22 10790.2001953125 21\n",
      "0 21 11347.0498046875 20\n",
      "0 19 11557.400390625 18\n",
      "0 22 12962.7998046875 21\n",
      "0 20 13596.75 19\n",
      "0 20 13661.75 19\n",
      "0 21 14264.400390625 20\n",
      "0 19 14151.400390625 18\n",
      "0 20 14416.25 19\n",
      "0 22 15450.900390625 21\n",
      "0 21 15513.4501953125 20\n",
      "0 21 15834.650390625 20\n",
      "0 21 17055.05078125 20\n",
      "0 20 17452.900390625 19\n",
      "0 20 16782.400390625 19\n",
      "0 23 16410.19921875 22\n",
      "0 20 16836.80078125 19\n",
      "0 20 16203.25 19\n",
      "0 21 15671.4501953125 20\n",
      "0 19 16824.69921875 18\n",
      "0 21 15735.75 20\n",
      "0 22 15183.400390625 21\n",
      "0 21 15511.0498046875 20\n",
      "0 20 17154.80078125 19\n",
      "0 22 16747.69921875 21\n",
      "0 19 16855.55078125 18\n",
      "0 21 17959.19921875 20\n",
      "0 22 17774.25 21\n",
      "0 21 17405.55078125 20\n",
      "0 20 17255.19921875 19\n",
      "0 21 16828.349609375 20\n",
      "0 17 17312.75 16\n",
      "0 22 18042.400390625 21\n",
      "0 21 18464.55078125 20\n",
      "0 21 19234.400390625 20\n",
      "0 22 19223.650390625 21\n",
      "0 20 19255.69921875 19\n",
      "0 20 18837.849609375 19\n",
      "0 20 18973.69921875 19\n",
      "0 20 20183.69921875 19\n",
      "0 21 21137.19921875 20\n",
      "0 21 21530.19921875 20\n",
      "0 18 21710.19921875 17\n",
      "0 20 21777.650390625 19\n",
      "0 21 21821.05078125 20\n",
      "0 19 21281.44921875 18\n",
      "0 22 23992.69921875 21\n",
      "0 21 23893.69921875 20\n",
      "0 21 24753.150390625 20\n",
      "0 18 24073.900390625 17\n"
     ]
    }
   ],
   "source": [
    "for i in range(niftymon.shape[0]):\n",
    "    count = 0\n",
    "    curr_year, curr_month = pd.to_datetime(niftymon.iloc[i]['Date']).year, pd.to_datetime(niftymon.iloc[i]['Date']).month\n",
    "    next_month_data = niftyday[(niftyday['Date'].dt.year == curr_year) & (niftyday['Date'].dt.month == curr_month)]\n",
    "    for j in range(next_month_data.shape[0]):\n",
    "        if range_between(niftymon[\"Low\"][i],niftymon[\"Low\"][i],niftyday[\"Low\"][j],niftyday[\"High\"][j]) != None:\n",
    "            count+=1\n",
    "            break\n",
    "    print(count,next_month_data.shape[0],niftymon[\"Low\"][i],j)\n",
    "    "
   ]
  },
  {
   "cell_type": "code",
   "execution_count": 12,
   "metadata": {},
   "outputs": [
    {
     "name": "stdout",
     "output_type": "stream",
     "text": [
      "1 23 11929.599609375 0\n",
      "0 19 11175.0498046875 18\n",
      "0 21 7511.10009765625 20\n",
      "0 18 8055.7998046875 17\n",
      "0 19 8806.75 18\n",
      "0 22 9544.349609375 21\n",
      "0 23 10299.599609375 22\n",
      "0 21 10882.25 20\n",
      "0 22 10790.2001953125 21\n",
      "0 21 11347.0498046875 20\n",
      "0 19 11557.400390625 18\n",
      "0 22 12962.7998046875 21\n",
      "0 20 13596.75 19\n",
      "0 20 13661.75 19\n",
      "0 21 14264.400390625 20\n",
      "0 19 14151.400390625 18\n",
      "0 20 14416.25 19\n",
      "0 22 15450.900390625 21\n",
      "0 21 15513.4501953125 20\n",
      "0 21 15834.650390625 20\n",
      "0 21 17055.05078125 20\n",
      "0 20 17452.900390625 19\n",
      "0 20 16782.400390625 19\n",
      "0 23 16410.19921875 22\n",
      "0 20 16836.80078125 19\n",
      "0 20 16203.25 19\n",
      "0 21 15671.4501953125 20\n",
      "0 19 16824.69921875 18\n",
      "0 21 15735.75 20\n",
      "0 22 15183.400390625 21\n",
      "0 21 15511.0498046875 20\n",
      "0 20 17154.80078125 19\n",
      "0 22 16747.69921875 21\n",
      "0 19 16855.55078125 18\n",
      "0 21 17959.19921875 20\n",
      "0 22 17774.25 21\n",
      "0 21 17405.55078125 20\n",
      "0 20 17255.19921875 19\n",
      "0 21 16828.349609375 20\n",
      "0 17 17312.75 16\n",
      "0 22 18042.400390625 21\n",
      "0 21 18464.55078125 20\n",
      "0 21 19234.400390625 20\n",
      "0 22 19223.650390625 21\n",
      "0 20 19255.69921875 19\n",
      "0 20 18837.849609375 19\n",
      "0 20 18973.69921875 19\n",
      "0 20 20183.69921875 19\n",
      "0 21 21137.19921875 20\n",
      "0 21 21530.19921875 20\n",
      "0 18 21710.19921875 17\n",
      "0 20 21777.650390625 19\n",
      "0 21 21821.05078125 20\n",
      "0 19 21281.44921875 18\n",
      "0 22 23992.69921875 21\n",
      "0 21 23893.69921875 20\n",
      "0 21 24753.150390625 20\n",
      "0 18 24073.900390625 17\n"
     ]
    }
   ],
   "source": [
    "for i in range(niftymon.shape[0]):\n",
    "    count = 0\n",
    "    curr_year, curr_month = pd.to_datetime(niftymon.iloc[i]['Date']).year, pd.to_datetime(niftymon.iloc[i]['Date']).month\n",
    "    next_month_data = niftyday[(niftyday['Date'].dt.year == curr_year) & (niftyday['Date'].dt.month == curr_month)]\n",
    "    for j in range(next_month_data.shape[0]):\n",
    "        if range_between(niftymon[\"Open\"][i],niftymon[\"Open\"][i],niftyday[\"Low\"][j],niftyday[\"High\"][j]) != None:\n",
    "            count+=1\n",
    "            break\n",
    "    print(count,next_month_data.shape[0],niftymon[\"Low\"][i],j)\n",
    "    "
   ]
  },
  {
   "cell_type": "code",
   "execution_count": null,
   "metadata": {},
   "outputs": [],
   "source": []
  }
 ],
 "metadata": {
  "kernelspec": {
   "display_name": "Python 3",
   "language": "python",
   "name": "python3"
  },
  "language_info": {
   "codemirror_mode": {
    "name": "ipython",
    "version": 3
   },
   "file_extension": ".py",
   "mimetype": "text/x-python",
   "name": "python",
   "nbconvert_exporter": "python",
   "pygments_lexer": "ipython3",
   "version": "3.12.5"
  }
 },
 "nbformat": 4,
 "nbformat_minor": 2
}
