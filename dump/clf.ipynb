{
 "cells": [
  {
   "cell_type": "code",
   "execution_count": 2,
   "metadata": {},
   "outputs": [
    {
     "name": "stderr",
     "output_type": "stream",
     "text": [
      "C:\\Users\\korad\\AppData\\Local\\Temp\\ipykernel_5768\\3491763435.py:13: SettingWithCopyWarning: \n",
      "A value is trying to be set on a copy of a slice from a DataFrame.\n",
      "Try using .loc[row_indexer,col_indexer] = value instead\n",
      "\n",
      "See the caveats in the documentation: https://pandas.pydata.org/pandas-docs/stable/user_guide/indexing.html#returning-a-view-versus-a-copy\n",
      "  daily_data['Prev_Open'] = daily_data['Open'].shift(1)\n",
      "C:\\Users\\korad\\AppData\\Local\\Temp\\ipykernel_5768\\3491763435.py:14: SettingWithCopyWarning: \n",
      "A value is trying to be set on a copy of a slice from a DataFrame.\n",
      "Try using .loc[row_indexer,col_indexer] = value instead\n",
      "\n",
      "See the caveats in the documentation: https://pandas.pydata.org/pandas-docs/stable/user_guide/indexing.html#returning-a-view-versus-a-copy\n",
      "  daily_data['Prev_Close'] = daily_data['Close'].shift(1)\n",
      "C:\\Users\\korad\\AppData\\Local\\Temp\\ipykernel_5768\\3491763435.py:15: SettingWithCopyWarning: \n",
      "A value is trying to be set on a copy of a slice from a DataFrame.\n",
      "Try using .loc[row_indexer,col_indexer] = value instead\n",
      "\n",
      "See the caveats in the documentation: https://pandas.pydata.org/pandas-docs/stable/user_guide/indexing.html#returning-a-view-versus-a-copy\n",
      "  daily_data['Prev_High'] = daily_data['High'].shift(1)\n",
      "C:\\Users\\korad\\AppData\\Local\\Temp\\ipykernel_5768\\3491763435.py:16: SettingWithCopyWarning: \n",
      "A value is trying to be set on a copy of a slice from a DataFrame.\n",
      "Try using .loc[row_indexer,col_indexer] = value instead\n",
      "\n",
      "See the caveats in the documentation: https://pandas.pydata.org/pandas-docs/stable/user_guide/indexing.html#returning-a-view-versus-a-copy\n",
      "  daily_data['Prev_Low'] = daily_data['Low'].shift(1)\n",
      "C:\\Users\\korad\\AppData\\Local\\Temp\\ipykernel_5768\\3491763435.py:17: SettingWithCopyWarning: \n",
      "A value is trying to be set on a copy of a slice from a DataFrame.\n",
      "Try using .loc[row_indexer,col_indexer] = value instead\n",
      "\n",
      "See the caveats in the documentation: https://pandas.pydata.org/pandas-docs/stable/user_guide/indexing.html#returning-a-view-versus-a-copy\n",
      "  daily_data['Prev_Volume'] = daily_data['Volume'].shift(1)\n",
      "C:\\Users\\korad\\AppData\\Local\\Temp\\ipykernel_5768\\3491763435.py:20: SettingWithCopyWarning: \n",
      "A value is trying to be set on a copy of a slice from a DataFrame\n",
      "\n",
      "See the caveats in the documentation: https://pandas.pydata.org/pandas-docs/stable/user_guide/indexing.html#returning-a-view-versus-a-copy\n",
      "  daily_data.dropna(inplace=True)\n"
     ]
    }
   ],
   "source": [
    "import pandas as pd\n",
    "import numpy as np\n",
    "from sklearn.model_selection import train_test_split\n",
    "from sklearn.ensemble import RandomForestClassifier\n",
    "from sklearn.metrics import accuracy_score, classification_report\n",
    "from utility.fetch_ import download_stock_data\n",
    "ticker = [\"tatasteel.ns\"]\n",
    "i=0\n",
    "dd , dm = download_stock_data(ticker=ticker)\n",
    "daily_data = dd[:]\n",
    "\n",
    "# Feature Engineering: Create lag features for previous day data\n",
    "daily_data['Prev_Open'] = daily_data['Open'].shift(1)\n",
    "daily_data['Prev_Close'] = daily_data['Close'].shift(1)\n",
    "daily_data['Prev_High'] = daily_data['High'].shift(1)\n",
    "daily_data['Prev_Low'] = daily_data['Low'].shift(1)\n",
    "daily_data['Prev_Volume'] = daily_data['Volume'].shift(1)\n",
    "\n",
    "# Drop rows with NaN values (as they don't have previous day data)\n",
    "daily_data.dropna(inplace=True)\n",
    "\n",
    "# Load the historical trade data (for training purposes)\n",
    "trade_history_df = pd.read_csv(f'./database/{ticker[i]}/trade_history.csv')\n",
    "\n",
    "# Feature Engineering: Extract useful features from the buy/sell data\n",
    "trade_history_df['Buy Date'] = pd.to_datetime(trade_history_df['Buy Date'])\n",
    "trade_history_df['Sell Date'] = pd.to_datetime(trade_history_df['Sell Date'])\n",
    "\n",
    "# Merge daily data with trade history to incorporate lag and current day's features\n",
    "trade_history_df = pd.merge(trade_history_df, daily_data, left_on='Buy Date', right_on='Date', how='inner')\n",
    "\n",
    "# Create additional features based on the lag and current day data\n",
    "trade_history_df['Price Change'] = trade_history_df['Sell Price'] - trade_history_df['Buy Price']\n",
    "trade_history_df['Holding Period (Months)'] = (trade_history_df['Sell Date'] - trade_history_df['Buy Date']).dt.days / 30\n",
    "trade_history_df['Price Change %'] = (trade_history_df['Price Change'] / trade_history_df['Buy Price']) * 100\n",
    "\n",
    "# Target classification: Based on historical trade data, determine Buy (1), Sell (2), or Hold (0)\n",
    "def classify_action(row):\n",
    "    if row['Price Change %'] > 10:  # Condition for a profitable trade to Sell\n",
    "        return 2  # Sell\n",
    "    elif row['Price Change %'] < -5:  # Condition for a loss to Buy again (lower price)\n",
    "        return 1  # Buy\n",
    "    else:\n",
    "        return 0  # Hold\n",
    "\n",
    "trade_history_df['Action'] = trade_history_df.apply(classify_action, axis=1)\n",
    "\n",
    "# Prepare the feature set and target\n",
    "X = trade_history_df[['Buy Price', 'Open', 'Close', 'Prev_Open', 'Prev_Close', 'Prev_High', 'Prev_Low', 'Prev_Volume']]\n",
    "y = trade_history_df['Action']\n",
    "\n",
    "# Split the data into training and test sets\n",
    "X_train, X_test, y_train, y_test = train_test_split(X, y, test_size=0.2, random_state=42)\n",
    "\n",
    "# Train a Random Forest Classifier for multi-class classification\n",
    "clf = RandomForestClassifier(n_estimators=100, random_state=42)\n",
    "clf.fit(X_train, y_train)\n",
    "\n",
    "# Predict on the test set\n",
    "y_pred = clf.predict(X_test)\n",
    "\n",
    "\n",
    "\n",
    "# Calculate the closest buy price\n",
    "def calculate_closest_buy_price(row):\n",
    "    low = row['Low']\n",
    "    volume = row['Volume']\n",
    "    open_price = row['Open']\n",
    "    close_price = row['Close']\n",
    "    \n",
    "    # If today's low price is greater than the threshold, suggest a new buy price\n",
    "    if open_price <= low:\n",
    "        suggested_buy_price = low\n",
    "    else:\n",
    "        # Calculate a new price based on volume (example calculation, adjust as needed)\n",
    "        suggested_buy_price = low + (volume / 100000)  # Example: Adding a small increment based on volume\n",
    "    \n",
    "    return suggested_buy_price\n",
    "\n"
   ]
  },
  {
   "cell_type": "code",
   "execution_count": 24,
   "metadata": {},
   "outputs": [
    {
     "name": "stdout",
     "output_type": "stream",
     "text": [
      "Model Accuracy: 100.00%\n",
      "Classification Report:\n",
      "               precision    recall  f1-score   support\n",
      "\n",
      "           2       1.00      1.00      1.00         4\n",
      "\n",
      "    accuracy                           1.00         4\n",
      "   macro avg       1.00      1.00      1.00         4\n",
      "weighted avg       1.00      1.00      1.00         4\n",
      "\n",
      "Predicted Action: Sell\n"
     ]
    }
   ],
   "source": [
    "# Evaluate the model performance\n",
    "accuracy = accuracy_score(y_test, y_pred)\n",
    "print(f\"Model Accuracy: {accuracy * 100:.2f}%\")\n",
    "print(\"Classification Report:\\n\", classification_report(y_test, y_pred))\n",
    "\n",
    "# Now, let's use the trained model to predict a new action (Buy, Hold, Sell) based on a new day's data\n",
    "\n",
    "new_trade = pd.DataFrame({\n",
    "    'Buy Price': [daily_data['Close'][len(daily_data) - 1]],\n",
    "    'Open': [daily_data['Open'][len(daily_data) - 1]],\n",
    "    'Close': [daily_data['Close'][len(daily_data) - 1]],\n",
    "    'Prev_Open': [daily_data['Prev_Open'][len(daily_data) - 1]],\n",
    "    'Prev_Close': [daily_data['Prev_Close'][len(daily_data) - 1]],\n",
    "    'Prev_High': [daily_data['Prev_High'][len(daily_data) - 1]],\n",
    "    'Prev_Low': [daily_data['Prev_Low'][len(daily_data) - 1]],\n",
    "    'Prev_Volume': [daily_data['Prev_Volume'][len(daily_data) - 1]]\n",
    "})\n",
    "# Predict action (0: Hold, 1: Buy, 2: Sell)\n",
    "predicted_action = clf.predict(new_trade)\n",
    "action_dict = {0: 'Hold', 1: 'Buy', 2: 'Sell'}\n",
    "print(\"Predicted Action:\", action_dict[predicted_action[0]])\n"
   ]
  },
  {
   "cell_type": "code",
   "execution_count": 26,
   "metadata": {},
   "outputs": [
    {
     "name": "stdout",
     "output_type": "stream",
     "text": [
      "Suggested Buy Prices for Today:\n",
      " Empty DataFrame\n",
      "Columns: [Date, Open, Close, Low, High, Volume, Suggested_Buy_Price]\n",
      "Index: []\n"
     ]
    },
    {
     "name": "stderr",
     "output_type": "stream",
     "text": [
      "C:\\Users\\korad\\AppData\\Local\\Temp\\ipykernel_5768\\4273906320.py:2: SettingWithCopyWarning: \n",
      "A value is trying to be set on a copy of a slice from a DataFrame.\n",
      "Try using .loc[row_indexer,col_indexer] = value instead\n",
      "\n",
      "See the caveats in the documentation: https://pandas.pydata.org/pandas-docs/stable/user_guide/indexing.html#returning-a-view-versus-a-copy\n",
      "  daily_data['Suggested_Buy_Price'] = daily_data.apply(calculate_closest_buy_price, axis=1)\n"
     ]
    }
   ],
   "source": [
    "# Apply the function to daily data to get suggested buy prices\n",
    "daily_data['Suggested_Buy_Price'] = daily_data.apply(calculate_closest_buy_price, axis=1)\n",
    "\n",
    "# Display suggested buy prices for today\n",
    "today_data = daily_data[daily_data['Date'] == pd.to_datetime('today')]\n",
    "print(\"Suggested Buy Prices for Today:\\n\", today_data[['Date', 'Open', 'Close', 'Low', 'High', 'Volume', 'Suggested_Buy_Price']])\n"
   ]
  },
  {
   "cell_type": "code",
   "execution_count": null,
   "metadata": {},
   "outputs": [],
   "source": []
  }
 ],
 "metadata": {
  "kernelspec": {
   "display_name": "Python 3",
   "language": "python",
   "name": "python3"
  },
  "language_info": {
   "codemirror_mode": {
    "name": "ipython",
    "version": 3
   },
   "file_extension": ".py",
   "mimetype": "text/x-python",
   "name": "python",
   "nbconvert_exporter": "python",
   "pygments_lexer": "ipython3",
   "version": "3.12.5"
  }
 },
 "nbformat": 4,
 "nbformat_minor": 2
}
